{
 "cells": [
  {
   "cell_type": "code",
   "execution_count": null,
   "metadata": {},
   "outputs": [],
   "source": []
  },
  {
   "cell_type": "markdown",
   "metadata": {},
   "source": [
    "# Determining available Shape ID's of a Given Route in the GTFS Realtime Data Sample"
   ]
  },
  {
   "cell_type": "markdown",
   "metadata": {},
   "source": [
    "## Sample is requested from supervisor and data shared is most likely a 1 day data.\n",
    "## Sample is extracted from TransLink Open Data Portal using an application created by Lim. A."
   ]
  },
  {
   "cell_type": "code",
   "execution_count": 1,
   "metadata": {},
   "outputs": [],
   "source": [
    "# Import pandas for using dataframe\n",
    "import pandas as pd\n",
    "# Import glob libraries\n",
    "import glob\n",
    "# Import re to enable regex\n",
    "import re\n",
    "\n",
    "# import StringIO for reading files from your machine\n",
    "from io import StringIO\n",
    "\n",
    "# Set the maximum number of rows that pandas datframe will display\n",
    "pd.set_option('display.max_rows', 200)"
   ]
  },
  {
   "cell_type": "code",
   "execution_count": 2,
   "metadata": {},
   "outputs": [],
   "source": [
    "# Filepaths of three datasets available listed here.\n",
    "# For the experimental visualization works in Tableau, the filepaths that was used was the dataset with the 26-8-2021 date\n",
    "\n",
    "# Only Chosen the TU feeds 2-8-2021 in this section to avoid overwriting the 26-8-2021 data in the database\n",
    "# as I have used the TU feeds 26-8-2021 data for the Tableau Visualization\n",
    "\n",
    "# tu_source_path = r'/Users/francisroberto/OneDrive - Queensland University of Technology/QUT/IFN712/GTFS DATA/TU feeds 2-8-2021'\n",
    "# tu_source_path = r'/Users/francisroberto/OneDrive - Queensland University of Technology/QUT/IFN712/GTFS DATA/TU feeds 3-8-2021'\n",
    "tu_source_path = r'/Users/francisroberto/OneDrive - Queensland University of Technology/QUT/IFN712/GTFS DATA/TU feeds 26-8-2021'\n",
    "\n",
    "# Locate all required csv files from the source path and save the collection to a variable\n",
    "tu_csv_files = glob.glob(tu_source_path + \"/*.csv\")"
   ]
  },
  {
   "cell_type": "markdown",
   "metadata": {},
   "source": [
    "## Input the Route you want to search for in the variable name target_route"
   ]
  },
  {
   "cell_type": "code",
   "execution_count": 3,
   "metadata": {},
   "outputs": [],
   "source": [
    "# Replace the value inside the single quotes in the target_route variable with the route you want to search for\n",
    "\n",
    "route = '333-1886'\n",
    "\n"
   ]
  },
  {
   "cell_type": "code",
   "execution_count": 4,
   "metadata": {},
   "outputs": [],
   "source": [
    "# Instantiate an empty DataFrame object\n",
    "result_df = pd.DataFrame()\n",
    "\n",
    "# Loop through all the files in the files collection variable and then look for\n",
    "# shape_id that are included in our shape id list for a specific routes\n",
    "for file in tu_csv_files:\n",
    "    df = pd.read_csv(file, usecols=range(1,17), dtype='unicode', low_memory=False)\n",
    "    # newdf = df[(df.shape_id == shape_ids[shape_id_index])]\n",
    "    newdf = df[(df.route_id == route)]\n",
    "\n",
    "    \n",
    "    result_df = result_df.append(newdf, ignore_index=True)"
   ]
  },
  {
   "cell_type": "code",
   "execution_count": 5,
   "metadata": {},
   "outputs": [
    {
     "data": {
      "text/html": [
       "<div>\n",
       "<style scoped>\n",
       "    .dataframe tbody tr th:only-of-type {\n",
       "        vertical-align: middle;\n",
       "    }\n",
       "\n",
       "    .dataframe tbody tr th {\n",
       "        vertical-align: top;\n",
       "    }\n",
       "\n",
       "    .dataframe thead th {\n",
       "        text-align: right;\n",
       "    }\n",
       "</style>\n",
       "<table border=\"1\" class=\"dataframe\">\n",
       "  <thead>\n",
       "    <tr style=\"text-align: right;\">\n",
       "      <th></th>\n",
       "      <th>trip_id</th>\n",
       "      <th>start_time</th>\n",
       "      <th>start_date</th>\n",
       "      <th>route_id</th>\n",
       "      <th>stop_id</th>\n",
       "      <th>stop_sequence</th>\n",
       "      <th>arrival_delay</th>\n",
       "      <th>arrival_time</th>\n",
       "      <th>arrival_uncertainty</th>\n",
       "      <th>departure_delay</th>\n",
       "      <th>departure_time</th>\n",
       "      <th>departure_uncertainty</th>\n",
       "      <th>schedule_relationship</th>\n",
       "      <th>id</th>\n",
       "      <th>timestamp</th>\n",
       "      <th>shape_id</th>\n",
       "    </tr>\n",
       "  </thead>\n",
       "  <tbody>\n",
       "    <tr>\n",
       "      <th>0</th>\n",
       "      <td>18316923-BT 21_22-AUG_FUL-Weekday-01</td>\n",
       "      <td>13:15:00</td>\n",
       "      <td>20210826</td>\n",
       "      <td>333-1886</td>\n",
       "      <td>3944</td>\n",
       "      <td>1.0</td>\n",
       "      <td>NaN</td>\n",
       "      <td>NaN</td>\n",
       "      <td>NaN</td>\n",
       "      <td>0.0</td>\n",
       "      <td>1629947700.0</td>\n",
       "      <td>30.0</td>\n",
       "      <td>0.0</td>\n",
       "      <td>TU-18316923-BT 21_22-AUG_FUL-Weekday-01</td>\n",
       "      <td>1629945976</td>\n",
       "      <td>3330071</td>\n",
       "    </tr>\n",
       "    <tr>\n",
       "      <th>1</th>\n",
       "      <td>18316923-BT 21_22-AUG_FUL-Weekday-01</td>\n",
       "      <td>13:15:00</td>\n",
       "      <td>20210826</td>\n",
       "      <td>333-1886</td>\n",
       "      <td>3943</td>\n",
       "      <td>2.0</td>\n",
       "      <td>49.0</td>\n",
       "      <td>1629947809.0</td>\n",
       "      <td>30.0</td>\n",
       "      <td>49.0</td>\n",
       "      <td>1629947809.0</td>\n",
       "      <td>30.0</td>\n",
       "      <td>0.0</td>\n",
       "      <td>TU-18316923-BT 21_22-AUG_FUL-Weekday-01</td>\n",
       "      <td>1629945976</td>\n",
       "      <td>3330071</td>\n",
       "    </tr>\n",
       "    <tr>\n",
       "      <th>2</th>\n",
       "      <td>18316923-BT 21_22-AUG_FUL-Weekday-01</td>\n",
       "      <td>13:15:00</td>\n",
       "      <td>20210826</td>\n",
       "      <td>333-1886</td>\n",
       "      <td>10900</td>\n",
       "      <td>3.0</td>\n",
       "      <td>-16.0</td>\n",
       "      <td>1629947984.0</td>\n",
       "      <td>30.0</td>\n",
       "      <td>-16.0</td>\n",
       "      <td>1629947984.0</td>\n",
       "      <td>30.0</td>\n",
       "      <td>0.0</td>\n",
       "      <td>TU-18316923-BT 21_22-AUG_FUL-Weekday-01</td>\n",
       "      <td>1629945976</td>\n",
       "      <td>3330071</td>\n",
       "    </tr>\n",
       "    <tr>\n",
       "      <th>3</th>\n",
       "      <td>18316923-BT 21_22-AUG_FUL-Weekday-01</td>\n",
       "      <td>13:15:00</td>\n",
       "      <td>20210826</td>\n",
       "      <td>333-1886</td>\n",
       "      <td>11270</td>\n",
       "      <td>4.0</td>\n",
       "      <td>-85.0</td>\n",
       "      <td>1629948215.0</td>\n",
       "      <td>30.0</td>\n",
       "      <td>-85.0</td>\n",
       "      <td>1629948215.0</td>\n",
       "      <td>30.0</td>\n",
       "      <td>0.0</td>\n",
       "      <td>TU-18316923-BT 21_22-AUG_FUL-Weekday-01</td>\n",
       "      <td>1629945976</td>\n",
       "      <td>3330071</td>\n",
       "    </tr>\n",
       "    <tr>\n",
       "      <th>4</th>\n",
       "      <td>18316923-BT 21_22-AUG_FUL-Weekday-01</td>\n",
       "      <td>13:15:00</td>\n",
       "      <td>20210826</td>\n",
       "      <td>333-1886</td>\n",
       "      <td>11272</td>\n",
       "      <td>5.0</td>\n",
       "      <td>-84.0</td>\n",
       "      <td>1629948276.0</td>\n",
       "      <td>30.0</td>\n",
       "      <td>-84.0</td>\n",
       "      <td>1629948276.0</td>\n",
       "      <td>30.0</td>\n",
       "      <td>0.0</td>\n",
       "      <td>TU-18316923-BT 21_22-AUG_FUL-Weekday-01</td>\n",
       "      <td>1629945976</td>\n",
       "      <td>3330071</td>\n",
       "    </tr>\n",
       "  </tbody>\n",
       "</table>\n",
       "</div>"
      ],
      "text/plain": [
       "                                trip_id start_time start_date  route_id  \\\n",
       "0  18316923-BT 21_22-AUG_FUL-Weekday-01   13:15:00   20210826  333-1886   \n",
       "1  18316923-BT 21_22-AUG_FUL-Weekday-01   13:15:00   20210826  333-1886   \n",
       "2  18316923-BT 21_22-AUG_FUL-Weekday-01   13:15:00   20210826  333-1886   \n",
       "3  18316923-BT 21_22-AUG_FUL-Weekday-01   13:15:00   20210826  333-1886   \n",
       "4  18316923-BT 21_22-AUG_FUL-Weekday-01   13:15:00   20210826  333-1886   \n",
       "\n",
       "  stop_id stop_sequence arrival_delay  arrival_time arrival_uncertainty  \\\n",
       "0    3944           1.0           NaN           NaN                 NaN   \n",
       "1    3943           2.0          49.0  1629947809.0                30.0   \n",
       "2   10900           3.0         -16.0  1629947984.0                30.0   \n",
       "3   11270           4.0         -85.0  1629948215.0                30.0   \n",
       "4   11272           5.0         -84.0  1629948276.0                30.0   \n",
       "\n",
       "  departure_delay departure_time departure_uncertainty schedule_relationship  \\\n",
       "0             0.0   1629947700.0                  30.0                   0.0   \n",
       "1            49.0   1629947809.0                  30.0                   0.0   \n",
       "2           -16.0   1629947984.0                  30.0                   0.0   \n",
       "3           -85.0   1629948215.0                  30.0                   0.0   \n",
       "4           -84.0   1629948276.0                  30.0                   0.0   \n",
       "\n",
       "                                        id   timestamp shape_id  \n",
       "0  TU-18316923-BT 21_22-AUG_FUL-Weekday-01  1629945976  3330071  \n",
       "1  TU-18316923-BT 21_22-AUG_FUL-Weekday-01  1629945976  3330071  \n",
       "2  TU-18316923-BT 21_22-AUG_FUL-Weekday-01  1629945976  3330071  \n",
       "3  TU-18316923-BT 21_22-AUG_FUL-Weekday-01  1629945976  3330071  \n",
       "4  TU-18316923-BT 21_22-AUG_FUL-Weekday-01  1629945976  3330071  "
      ]
     },
     "execution_count": 5,
     "metadata": {},
     "output_type": "execute_result"
    }
   ],
   "source": [
    "result_df.head()"
   ]
  },
  {
   "cell_type": "code",
   "execution_count": 6,
   "metadata": {},
   "outputs": [
    {
     "name": "stdout",
     "output_type": "stream",
     "text": [
      "<class 'pandas.core.frame.DataFrame'>\n",
      "RangeIndex: 157761 entries, 0 to 157760\n",
      "Data columns (total 16 columns):\n",
      " #   Column                 Non-Null Count   Dtype \n",
      "---  ------                 --------------   ----- \n",
      " 0   trip_id                157761 non-null  object\n",
      " 1   start_time             157761 non-null  object\n",
      " 2   start_date             157761 non-null  object\n",
      " 3   route_id               157761 non-null  object\n",
      " 4   stop_id                157567 non-null  object\n",
      " 5   stop_sequence          157567 non-null  object\n",
      " 6   arrival_delay          149610 non-null  object\n",
      " 7   arrival_time           149610 non-null  object\n",
      " 8   arrival_uncertainty    149610 non-null  object\n",
      " 9   departure_delay        157529 non-null  object\n",
      " 10  departure_time         157529 non-null  object\n",
      " 11  departure_uncertainty  157529 non-null  object\n",
      " 12  schedule_relationship  157567 non-null  object\n",
      " 13  id                     157761 non-null  object\n",
      " 14  timestamp              157761 non-null  object\n",
      " 15  shape_id               156894 non-null  object\n",
      "dtypes: object(16)\n",
      "memory usage: 19.3+ MB\n"
     ]
    }
   ],
   "source": [
    "result_df.info()"
   ]
  },
  {
   "cell_type": "markdown",
   "metadata": {},
   "source": [
    "## Listing out the available Shape Id's for a given Route"
   ]
  },
  {
   "cell_type": "code",
   "execution_count": 7,
   "metadata": {},
   "outputs": [
    {
     "name": "stdout",
     "output_type": "stream",
     "text": [
      "['3330071', '3330083', '3330072', nan]\n"
     ]
    }
   ],
   "source": [
    "# print(list(result_df.shape_id.unique()))\n",
    "print(list(result_df.shape_id.unique()))"
   ]
  },
  {
   "cell_type": "code",
   "execution_count": 8,
   "metadata": {},
   "outputs": [],
   "source": [
    "result_df_3330071 = result_df.copy()\n",
    "result_df_3330071 = result_df_3330071.loc[result_df_3330071['shape_id'] == '3330071']\n",
    "\n"
   ]
  },
  {
   "cell_type": "code",
   "execution_count": 9,
   "metadata": {},
   "outputs": [
    {
     "name": "stdout",
     "output_type": "stream",
     "text": [
      "['3330071']\n"
     ]
    }
   ],
   "source": [
    "print(list(result_df_3330071.shape_id.unique()))"
   ]
  },
  {
   "cell_type": "code",
   "execution_count": 10,
   "metadata": {},
   "outputs": [],
   "source": [
    "result_df_3330072 = result_df.copy()\n",
    "result_df_3330072 = result_df_3330072.loc[result_df_3330072['shape_id'] == '3330072']\n"
   ]
  },
  {
   "cell_type": "code",
   "execution_count": 11,
   "metadata": {},
   "outputs": [],
   "source": [
    "result_df_3330083 = result_df.copy()\n",
    "result_df_3330083 = result_df_3330083.loc[result_df_3330083['shape_id'] == '3330083']\n"
   ]
  },
  {
   "cell_type": "code",
   "execution_count": 12,
   "metadata": {},
   "outputs": [],
   "source": [
    "result_df_3330071.to_csv('RT_3330071.csv', index=False)"
   ]
  },
  {
   "cell_type": "code",
   "execution_count": 13,
   "metadata": {},
   "outputs": [],
   "source": [
    "result_df_3330072.to_csv('RT_3330072.csv', index=False)"
   ]
  },
  {
   "cell_type": "code",
   "execution_count": 14,
   "metadata": {},
   "outputs": [],
   "source": [
    "result_df_3330083.to_csv('RT_3330083.csv', index=False)"
   ]
  },
  {
   "cell_type": "code",
   "execution_count": null,
   "metadata": {},
   "outputs": [],
   "source": []
  }
 ],
 "metadata": {
  "interpreter": {
   "hash": "082e9a3bcad0a290d0001e938aa60b99250c6c2ef33a923c00b70f9826caf4b7"
  },
  "kernelspec": {
   "display_name": "Python 3.8.5 64-bit ('3.8')",
   "name": "python3"
  },
  "language_info": {
   "codemirror_mode": {
    "name": "ipython",
    "version": 3
   },
   "file_extension": ".py",
   "mimetype": "text/x-python",
   "name": "python",
   "nbconvert_exporter": "python",
   "pygments_lexer": "ipython3",
   "version": "3.8.5"
  },
  "orig_nbformat": 4
 },
 "nbformat": 4,
 "nbformat_minor": 2
}
